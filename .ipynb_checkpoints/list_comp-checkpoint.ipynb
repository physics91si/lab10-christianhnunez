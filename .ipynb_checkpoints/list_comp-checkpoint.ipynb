{
 "cells": [
  {
   "cell_type": "markdown",
   "metadata": {},
   "source": [
    "# Christian H. Nunez | Physics 91SI"
   ]
  },
  {
   "cell_type": "code",
   "execution_count": 38,
   "metadata": {},
   "outputs": [],
   "source": [
    "from __future__ import print_function, division\n",
    "import numpy as np"
   ]
  },
  {
   "cell_type": "code",
   "execution_count": 39,
   "metadata": {},
   "outputs": [],
   "source": [
    "from string import ascii_lowercase as lwr"
   ]
  },
  {
   "cell_type": "code",
   "execution_count": 40,
   "metadata": {},
   "outputs": [
    {
     "data": {
      "text/plain": [
       "['a', 'b', 'c', 'd', 'e', 'f', 'g', 'h', 'i', 'j']"
      ]
     },
     "execution_count": 40,
     "metadata": {},
     "output_type": "execute_result"
    }
   ],
   "source": [
    "# 1. Return a list of the first 10 letters of the alphabet\n",
    "[x for x in lwr if x < 'k']"
   ]
  },
  {
   "cell_type": "code",
   "execution_count": 41,
   "metadata": {},
   "outputs": [
    {
     "data": {
      "text/plain": [
       "['a', 'b', 'c', 'd', 'e', 'g', 'h', 'i', 'j']"
      ]
     },
     "execution_count": 41,
     "metadata": {},
     "output_type": "execute_result"
    }
   ],
   "source": [
    "# 2. Return a list of the first 10 lettters of the alphabet except for sixth letter\n",
    "[x for x in lwr if x < 'k' and x != 'f']"
   ]
  },
  {
   "cell_type": "code",
   "execution_count": 45,
   "metadata": {},
   "outputs": [
    {
     "data": {
      "text/plain": [
       "[['a', 'aa', 'aaa'],\n",
       " ['b', 'bb', 'bbb'],\n",
       " ['c', 'cc', 'ccc'],\n",
       " ['d', 'dd', 'ddd'],\n",
       " ['e', 'ee', 'eee'],\n",
       " ['g', 'gg', 'ggg'],\n",
       " ['h', 'hh', 'hhh'],\n",
       " ['i', 'ii', 'iii'],\n",
       " ['j', 'jj', 'jjj']]"
      ]
     },
     "execution_count": 45,
     "metadata": {},
     "output_type": "execute_result"
    }
   ],
   "source": [
    "# 4. Returns a list of the first 10 letters of the alphabet, except for the sixth one,\n",
    "# each repeated 1, 2, and 3 times. In grid format.\n",
    "lst3 = [[x, x+x, x+x+x] for x in lwr if x < 'k' and x != 'f']\n",
    "lst3"
   ]
  },
  {
   "cell_type": "code",
   "execution_count": 46,
   "metadata": {},
   "outputs": [
    {
     "name": "stdout",
     "output_type": "stream",
     "text": [
      "['a', 'aa', 'aaa', 'b', 'bb', 'bbb', 'c', 'cc', 'ccc', 'd', 'dd', 'ddd', 'e', 'ee', 'eee', 'g', 'gg', 'ggg', 'h', 'hh', 'hhh', 'i', 'ii', 'iii', 'j', 'jj', 'jjj']\n"
     ]
    }
   ],
   "source": [
    "# 3. Returns a list of the first 10 letters of the alphabet, except for the sixth one,\n",
    "# each repeated 1, 2, and 3 times.\n",
    "lst4 = [x for row in lst3 for x in row]\n",
    "print(lst4)"
   ]
  },
  {
   "cell_type": "code",
   "execution_count": 55,
   "metadata": {},
   "outputs": [
    {
     "data": {
      "text/plain": [
       "[['A', 'aa', 'aaa'],\n",
       " ['B', 'bb', 'bbb'],\n",
       " ['C', 'cc', 'ccc'],\n",
       " ['D', 'dd', 'ddd'],\n",
       " ['E', 'ee', 'eee'],\n",
       " ['G', 'gg', 'ggg'],\n",
       " ['H', 'hh', 'hhh'],\n",
       " ['I', 'ii', 'iii'],\n",
       " ['J', 'jj', 'jjj']]"
      ]
     },
     "execution_count": 55,
     "metadata": {},
     "output_type": "execute_result"
    }
   ],
   "source": [
    "#5. Returns a list like in #4, but if the number matches the index of the character\n",
    "# mod 3, instead print a single capitalized version of that character.\n",
    "repeat_list = [x.upper() if i % 3 == 0 else x for i,x in enumerate(lst4)]\n",
    "repeat_list_grouped = [repeat_list[i:i+3] for i in range(0, len(repeat_list)) if i % 3 == 0]\n",
    "repeat_list_grouped"
   ]
  },
  {
   "cell_type": "code",
   "execution_count": null,
   "metadata": {},
   "outputs": [],
   "source": []
  }
 ],
 "metadata": {
  "kernelspec": {
   "display_name": "Python 2",
   "language": "python",
   "name": "python2"
  },
  "language_info": {
   "codemirror_mode": {
    "name": "ipython",
    "version": 2
   },
   "file_extension": ".py",
   "mimetype": "text/x-python",
   "name": "python",
   "nbconvert_exporter": "python",
   "pygments_lexer": "ipython2",
   "version": "2.7.14"
  }
 },
 "nbformat": 4,
 "nbformat_minor": 2
}
