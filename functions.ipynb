{
 "cells": [
  {
   "cell_type": "markdown",
   "metadata": {},
   "source": [
    "# Christian H. Nunez | Physics 91SI"
   ]
  },
  {
   "cell_type": "code",
   "execution_count": 9,
   "metadata": {},
   "outputs": [],
   "source": [
    "from __future__ import print_function, division\n",
    "from functools import reduce"
   ]
  },
  {
   "cell_type": "code",
   "execution_count": 10,
   "metadata": {},
   "outputs": [
    {
     "name": "stdout",
     "output_type": "stream",
     "text": [
      "List comprehension method:  [1, 4, 9, 16, 25, 36, 49, 64, 81, 100]\n",
      "Lambda/dictionary method:  {1: 1, 2: 4, 3: 9, 4: 16, 5: 25, 6: 36, 7: 49, 8: 64, 9: 81, 10: 100}\n"
     ]
    }
   ],
   "source": [
    "# Squares: Create a list of the first 10 square numbers. First use a list comprehension, \n",
    "# then use a lamba function and a map.\n",
    "\n",
    "# List comprehension method:\n",
    "ten_squares = [x**2 for x in range(1,11)]\n",
    "print(\"List comprehension method: \", ten_squares)\n",
    "\n",
    "# Lamba function and map method:\n",
    "g = lambda key: key**2\n",
    "dict_ten_squares = dict([(key, g(key)) for key in range(1,11)])\n",
    "print(\"Lambda/dictionary method: \", dict_ten_squares)"
   ]
  },
  {
   "cell_type": "code",
   "execution_count": 16,
   "metadata": {},
   "outputs": [
    {
     "name": "stdout",
     "output_type": "stream",
     "text": [
      "The product of the numbers 1 through 5:  120\n"
     ]
    }
   ],
   "source": [
    "# Products: Use a lamba function with reduce to multiply up the numbers from 1 to 5\n",
    "small_lst = [x for x in range(1,6)]\n",
    "print(\"The product of the numbers 1 through 5: \", reduce(lambda x,y: x * y, small_lst))"
   ]
  },
  {
   "cell_type": "code",
   "execution_count": 24,
   "metadata": {},
   "outputs": [
    {
     "data": {
      "text/plain": [
       "['test1', 'test2', 'test3', 'test4']"
      ]
     },
     "execution_count": 24,
     "metadata": {},
     "output_type": "execute_result"
    }
   ],
   "source": [
    "# Filenames: Say that you have a string wth a list of file names \"test1.py test2.py test3.py ...\" and you want to \n",
    "# output a list of just the filenames without the .py extension. Do this with a list comprehension.\n",
    "filenames = \"test1.py test2.py test3.py test4.py christiansprogram.cpp grapher.C notebook.PDF\"\n",
    "[fullname[:fullname.find(\".\")-len(fullname)] for fullname in filenames.split() if fullname[fullname.find(\".\")-len(fullname):] == \".py\"]"
   ]
  },
  {
   "cell_type": "code",
   "execution_count": null,
   "metadata": {},
   "outputs": [],
   "source": [
    "# Note that the above satisfies the filenames bonus."
   ]
  }
 ],
 "metadata": {
  "kernelspec": {
   "display_name": "Python 2",
   "language": "python",
   "name": "python2"
  },
  "language_info": {
   "codemirror_mode": {
    "name": "ipython",
    "version": 2
   },
   "file_extension": ".py",
   "mimetype": "text/x-python",
   "name": "python",
   "nbconvert_exporter": "python",
   "pygments_lexer": "ipython2",
   "version": "2.7.14"
  }
 },
 "nbformat": 4,
 "nbformat_minor": 2
}
